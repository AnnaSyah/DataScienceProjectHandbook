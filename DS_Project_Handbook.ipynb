{
  "nbformat": 4,
  "nbformat_minor": 0,
  "metadata": {
    "colab": {
      "provenance": [],
      "toc_visible": true,
      "include_colab_link": true
    },
    "kernelspec": {
      "name": "python3",
      "display_name": "Python 3"
    },
    "language_info": {
      "name": "python"
    }
  },
  "cells": [
    {
      "cell_type": "markdown",
      "metadata": {
        "id": "view-in-github",
        "colab_type": "text"
      },
      "source": [
        "<a href=\"https://colab.research.google.com/github/AnnaSyah/DataScienceProjectHandbook/blob/main/DS_Project_Handbook.ipynb\" target=\"_parent\"><img src=\"https://colab.research.google.com/assets/colab-badge.svg\" alt=\"Open In Colab\"/></a>"
      ]
    },
    {
      "cell_type": "markdown",
      "source": [
        "# **Studi Kasus 2.1: Analisis Data Pelanggan E-Commerce**\n",
        "\n",
        "\n",
        "Suatu perusahaan e-commerce ingin menganalisis data pelanggan berdasarkan usia, kota tempat tinggal, dan kategori produk yang dibeli.\n",
        "\n",
        "\n",
        "\n",
        "**Solusi:**\n",
        "\n",
        "**1. Pemahaman Studi Kasus**\n",
        "\n",
        "    Perusahaan e-commerce ingin menganalisis data pelanggan berdasarkan:\n",
        "    *   Usia pelanggan\n",
        "    *   Kota tempat tinggal pelanggan\n",
        "    *   Kategori produk yang dibeli\n",
        "\n",
        "    Struktur data yang digunakan:\n",
        "    List → Menyimpan data pelanggan dalam bentuk daftar.\n",
        "    Tuple → Menyimpan kategori produk yang bersifat tetap.\n",
        "    Dictionary → Menyimpan jumlah pembelian per pelanggan dalam format key-value.\n",
        "    Set → Menyimpan daftar kota unik tempat tinggal pelanggan untuk menghindari duplikasi.\n",
        "\n",
        "\n",
        "\n",
        "**2. Implementasi Python**\n",
        "\n",
        "Berikut adalah implementasi kode Python berdasarkan studi kasus:"
      ],
      "metadata": {
        "id": "HZtbVABpy8uL"
      }
    },
    {
      "cell_type": "code",
      "source": [
        "# Data pelanggan dalam List (nama, usia, kota, produk yang dibeli)\n",
        "pelanggan = [\n",
        "    (\"Andi\", 25, \"Jakarta\", \"Elektronik\"),\n",
        "    (\"Budi\", 30, \"Bandung\", \"Fashion\"),\n",
        "    (\"Citra\", 27, \"Surabaya\", \"Kosmetik\"),\n",
        "    (\"Dewi\", 35, \"Jakarta\", \"Elektronik\"),\n",
        "    (\"Eka\", 29, \"Bandung\", \"Elektronik\"),\n",
        "    (\"Fajar\", 40, \"Surabaya\", \"Fashion\"),\n",
        "    (\"Gita\", 22, \"Jakarta\", \"Kosmetik\"),\n",
        "    (\"Hadi\", 31, \"Bandung\", \"Fashion\"),\n",
        "]\n",
        "\n",
        "# Tuple untuk kategori produk yang tersedia (bersifat tetap)\n",
        "kategori_produk = (\"Elektronik\", \"Fashion\", \"Kosmetik\")\n",
        "\n",
        "# Dictionary untuk menyimpan jumlah pembelian per pelanggan\n",
        "jumlah_pembelian = {\n",
        "    \"Andi\": 5,\n",
        "    \"Budi\": 2,\n",
        "    \"Citra\": 3,\n",
        "    \"Dewi\": 4,\n",
        "    \"Eka\": 1,\n",
        "    \"Fajar\": 6,\n",
        "    \"Gita\": 3,\n",
        "    \"Hadi\": 2\n",
        "}\n",
        "\n",
        "# Set untuk menyimpan kota unik tempat tinggal pelanggan\n",
        "kota_unik = {pelanggan[i][2] for i in range(len(pelanggan))}\n",
        "\n",
        "# Menampilkan hasil analisis\n",
        "print(\"Kategori Produk yang Tersedia:\", kategori_produk)\n",
        "print(\"Jumlah Pembelian per Pelanggan:\", jumlah_pembelian)\n",
        "print(\"Kota Tempat Tinggal Pelanggan (Unik):\", kota_unik)\n"
      ],
      "metadata": {
        "collapsed": true,
        "id": "JH1hP06nOlD8"
      },
      "execution_count": null,
      "outputs": []
    },
    {
      "cell_type": "markdown",
      "source": [
        "**3. Penjelasan Kode**\n",
        "\n",
        "    a) Menyimpan Data Pelanggan dengan List\n",
        "        Data pelanggan disimpan dalam List dengan format Tuple (nama, usia, kota, produk).\n",
        "        Contoh: (\"Andi\", 25, \"Jakarta\", \"Elektronik\")\n",
        "\n",
        "    b) Menyimpan Kategori Produk dengan Tuple\n",
        "        Tuple digunakan karena kategori produk tidak akan berubah.\n",
        "        Contoh: kategori_produk = (\"Elektronik\", \"Fashion\", \"Kosmetik\")\n",
        "\n",
        "    c) Menyimpan Jumlah Pembelian dengan Dictionary\n",
        "        Dictionary digunakan untuk mencatat jumlah pembelian setiap pelanggan dalam format key-value.\n",
        "        Contoh: \"Andi\": 5 menunjukkan Andi membeli 5 item.\n",
        "\n",
        "    d) Menyimpan Kota Pelanggan Unik dengan Set\n",
        "        Set digunakan untuk menyimpan daftar kota unik tempat tinggal pelanggan tanpa duplikasi.\n",
        "        Penggunaan Set Comprehension memastikan hanya kota yang unik yang disimpan."
      ],
      "metadata": {
        "id": "0S7rDlvUTpoC"
      }
    },
    {
      "cell_type": "markdown",
      "source": [
        "# **Studi Kasus 2.2: Analisis Skor Sentimen Ulasan Pelanggan**\n",
        "\n",
        "Dalam analisis data, kita sering kali menghadapi kumpulan teks seperti ulasan pelanggan. Salah satu tugas umum adalah membersihkan dan mengubah teks menjadi format numerik yang lebih mudah dianalisis.\n",
        "\n",
        "Di sini, kita akan menggunakan **List Comprehension** dan **Dictionary Comprehension** untuk:\n",
        "\n",
        "\n",
        "1.   Membersihkan teks ulasan pelanggan (mengubah huruf menjadi kecil dan menghapus tanda baca).\n",
        "2.   Mengonversi ulasan menjadi skor sentimen berdasarkan jumlah kata positif dan negatif dalam setiap ulasan.\n",
        "\n",
        "\n",
        "    Dataset Ulasan Pelanggan\n",
        "    +-----+---------+--------------------------------------------------+\n",
        "    | ID  |  NAMA   |                      ULASAN                      |\n",
        "    +=====+=========+==================================================+\n",
        "    | 101 | Anna    | Produk ini sangat bagus! Kualitasnya luar biasa. |\n",
        "    +-----|---------+--------------------------------------------------+\n",
        "    | 102 | Beny    | Pelayanan buruk, saya sangat kecewa.             |\n",
        "    +-----+---------+--------------------------------------------------+\n",
        "    | 103 | Cakra   | Harga terjangkau dan pengiriman cepat.           |\n",
        "    +-----+---------+--------------------------------------------------+\n",
        "    | 104 | Dessy   | Kualitasnya jelek dan tidak sesuai ekspektasi.   |\n",
        "    +-----+---------+--------------------------------------------------+\n",
        "    | 105 | Ellan   | Layanan pelanggan sangat membantu!               |\n",
        "    +-----+---------+--------------------------------------------------+\n",
        "\n",
        "\n",
        "\n",
        "**Solusi:**\n",
        "\n",
        "Kode Program Python:"
      ],
      "metadata": {
        "id": "bJlJzlIXfNX4"
      }
    },
    {
      "cell_type": "code",
      "source": [
        "import string\n",
        "\n",
        "# Data ulasan pelanggan (List)\n",
        "ulasan_pelanggan = [\n",
        "    \"Produk ini sangat bagus! Kualitasnya luar biasa.\",\n",
        "    \"Pelayanan buruk, saya sangat kecewa.\",\n",
        "    \"Harga terjangkau dan pengiriman cepat.\",\n",
        "    \"Kualitasnya jelek dan tidak sesuai ekspektasi.\",\n",
        "    \"Layanan pelanggan sangat membantu!\"\n",
        "]\n",
        "\n",
        "# List kata positif & negatif (Tuple)\n",
        "kata_positif = (\"bagus\", \"luar biasa\", \"terjangkau\", \"cepat\", \"membantu\")\n",
        "kata_negatif = (\"buruk\", \"kecewa\", \"jelek\", \"tidak sesuai\")\n",
        "\n",
        "# Preprocessing: Membersihkan teks menggunakan List Comprehension\n",
        "ulasan_bersih = [\n",
        "    \" \".join(kata.strip(string.punctuation).lower() for kata in ulasan.split())\n",
        "    for ulasan in ulasan_pelanggan\n",
        "]\n",
        "\n",
        "# Menghitung skor sentimen dengan Dictionary Comprehension\n",
        "skor_sentimen = {\n",
        "    i+1: sum(1 for kata in ulasan.split() if kata in kata_positif) -\n",
        "         sum(1 for kata in ulasan.split() if kata in kata_negatif)\n",
        "    for i, ulasan in enumerate(ulasan_bersih)\n",
        "}\n",
        "\n",
        "# Output hasil analisis\n",
        "print(\"Ulasan setelah diproses:\", ulasan_bersih)\n",
        "print(\"Skor sentimen:\", skor_sentimen)\n"
      ],
      "metadata": {
        "id": "drhRRbQdnoJj"
      },
      "execution_count": null,
      "outputs": []
    },
    {
      "cell_type": "markdown",
      "source": [
        "**Penjelasan:**\n",
        "\n",
        "    List Comprehension → membersihkan teks, menghapus tanda baca, dan mengubah huruf menjadi kecil.\n",
        "    Dictionary Comprehension → menghitung skor sentimen dengan menjumlahkan kata positif dan negatif dalam setiap ulasan.\n",
        "    Skor sentimen → ditentukan berdasarkan perbandingan jumlah kata positif dan negatif:\n",
        "    *   Positif: Jika jumlah kata positif lebih banyak daripada kata negatif.\n",
        "    *   Negatif: Jika jumlah kata negatif lebih banyak daripada kata positif.\n",
        "    *   Netral: Jika jumlah kata positif dan negatif seimbang."
      ],
      "metadata": {
        "id": "_-Al2TRO0YHt"
      }
    },
    {
      "cell_type": "markdown",
      "source": [
        "# **Studi Kasus 2.3: Analisis Pola Pembelian Pelanggan di E-Commerce**\n",
        "\n",
        "Dalam e-commerce, memahami pola pembelian pelanggan dapat membantu perusahaan menyajikan rekomendasi produk yang tepat dan menjaga loyalitas pelanggan. Studi kasus ini akan menganalisis daftar transaksi pelanggan menggunakan fungsi **Lambda**, **Map**, **Filter**, dan **Reduce**.\n",
        "\n",
        "    Dataset Transaksi Pelanggan\n",
        "    +--------------+-----------------------------+---------------------+\n",
        "    | PELANGGAN ID |           PRODUK            | TOTAL BELANJA (RP.) |\n",
        "    +==============+=============================+=====================+\n",
        "    |       1      | Laptop, Mouse               |          15.500.000 |\n",
        "    +--------------+-----------------------------+---------------------+\n",
        "    |       2      | Keyboard, Mouse             |             700.000 |\n",
        "    +--------------+-----------------------------+---------------------+\n",
        "    |       3      | Monitor, Mouse, Flash Drive |           3.200.000 |\n",
        "    +--------------+-----------------------------+---------------------+\n",
        "    |       4      | Laptop, Monitor             |          18.000.000 |\n",
        "    +--------------+-----------------------------+---------------------+\n",
        "    |       5      | Flash Drive                 |              90.000 |\n",
        "    +--------------+-----------------------------+---------------------+\n",
        "\n",
        "\n",
        "\n",
        "\n"
      ],
      "metadata": {
        "id": "7EHrEUoIMuqW"
      }
    },
    {
      "cell_type": "code",
      "source": [
        "# Data transaksi pelanggan (List of Dictionaries)\n",
        "transaksi = [\n",
        "    {\"PELANGGAN ID\": 1, \"produk\": [\"Laptop\", \"Mouse\"], \"TOTAL BELANJA (RP.)\": 15500000},\n",
        "    {\"PELANGGAN ID\": 2, \"produk\": [\"Keyboard\", \"Mouse\"], \"TOTAL BELANJA (RP.)\": 700000},\n",
        "    {\"PELANGGAN ID\": 3, \"produk\": [\"Monitor\", \"Mouse\", \"Flash Drive\"], \"TOTAL BELANJA (RP.)\": 3200000},\n",
        "    {\"PELANGGAN ID\": 4, \"produk\": [\"Laptop\", \"Monitor\"], \"TOTAL BELANJA (RP.)\": 18000000},\n",
        "    {\"PELANGGAN ID\": 5, \"produk\": [\"Flash Drive\"], \"TOTAL BELANJA (RP.)\": 90000}\n",
        "]"
      ],
      "metadata": {
        "id": "CouHhfVuU-NI"
      },
      "execution_count": null,
      "outputs": []
    },
    {
      "cell_type": "markdown",
      "source": [
        "**Solusi:**\n",
        "\n",
        "**1. Penerapan Lambda**\n",
        "\n",
        "Menggunakan **lambda** untuk menghitung jumlah produk yang dibeli oleh setiap pelanggan."
      ],
      "metadata": {
        "id": "zQOaX-E2V-z9"
      }
    },
    {
      "cell_type": "code",
      "source": [
        "# Menggunakan Lambda untuk menghitung jumlah produk yang dibeli per transaksi\n",
        "hitung_produk = lambda transaksi: {**transaksi, \"jumlah_produk\": len(transaksi[\"produk\"])}\n",
        "\n",
        "# Contoh penerapan untuk satu transaksi\n",
        "contoh_transaksi = hitung_produk(transaksi[0])\n",
        "print(contoh_transaksi)"
      ],
      "metadata": {
        "id": "TooFZvi01XP4"
      },
      "execution_count": null,
      "outputs": []
    },
    {
      "cell_type": "markdown",
      "source": [
        "**2. Penerapan Map()**\n",
        "\n",
        "Menggunakan **map()** untuk menambahkan jumlah produk dalam setiap transaksi."
      ],
      "metadata": {
        "id": "QCCTW4GKW4yE"
      }
    },
    {
      "cell_type": "code",
      "source": [
        "# Menambahkan jumlah produk yang dibeli oleh setiap pelanggan\n",
        "transaksi_dengan_jumlah_produk = list(map(lambda x: {**x, \"jumlah_produk\": len(x[\"produk\"])}, transaksi))\n",
        "\n",
        "print(transaksi_dengan_jumlah_produk)"
      ],
      "metadata": {
        "id": "BpAkbJ18XFR9"
      },
      "execution_count": null,
      "outputs": []
    },
    {
      "cell_type": "markdown",
      "source": [
        "**3. Penerapan Filter()**\n",
        "\n",
        "Menggunakan **filter()** untuk mendapatkan daftar pelanggan yang melakukan pembelian di atas Rp1.000.000."
      ],
      "metadata": {
        "id": "qv613EROYKjp"
      }
    },
    {
      "cell_type": "code",
      "source": [
        "# Menyaring pelanggan yang total belanjanya lebih dari Rp1.000.000\n",
        "pelanggan_premium = list(filter(lambda x: x[\"TOTAL BELANJA (RP.)\"] > 1000000, transaksi_dengan_jumlah_produk))\n",
        "\n",
        "print(pelanggan_premium)"
      ],
      "metadata": {
        "id": "s7IGIf-xYJ-0"
      },
      "execution_count": null,
      "outputs": []
    },
    {
      "cell_type": "markdown",
      "source": [
        "**4. Penerapan Reduce()**\n",
        "\n",
        "Menggunakan **reduce()** untuk menghitung total keseluruhan belanja semua pelanggan."
      ],
      "metadata": {
        "id": "nrIo2763YvqW"
      }
    },
    {
      "cell_type": "code",
      "source": [
        "from functools import reduce\n",
        "\n",
        "# Menghitung total belanja semua pelanggan\n",
        "total_semua_transaksi = reduce(lambda acc, x: acc + x[\"TOTAL BELANJA (RP.)\"], transaksi_dengan_jumlah_produk, 0)\n",
        "\n",
        "print(f\"Total keseluruhan belanja pelanggan: Rp{total_semua_transaksi:,.2f}\")"
      ],
      "metadata": {
        "id": "etfZ1VGdY_jO"
      },
      "execution_count": null,
      "outputs": []
    },
    {
      "cell_type": "markdown",
      "source": [
        "**Kesimpulan**\n",
        "\n",
        "    Dengan menerapkan Lambda, Map, Filter, dan Reduce, kita dapat melakukan analisis pola pembelian pelanggan dengan cepat:\n",
        "    *   Lambda menghitung jumlah produk dalam satu transaksi.\n",
        "    *   Map menambahkan atribut jumlah produk dalam setiap transaksi pelanggan.\n",
        "    *   Filter menyeleksi pelanggan dengan total belanja di atas Rp1.000.000\n",
        "    *   Reduce menghitung total semua transaksi pelanggan dalam e-commerce.\n",
        "\n",
        "    Penerapan ini membantu bisnis dalam mengidentifikasi pelanggan potensial dan mengoptimalkan strategi pemasaran."
      ],
      "metadata": {
        "id": "kwvUWIpdbnlL"
      }
    }
  ]
}